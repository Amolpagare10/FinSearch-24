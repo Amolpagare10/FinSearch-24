{
 "cells": [
  {
   "cell_type": "code",
   "execution_count": 1,
   "metadata": {},
   "outputs": [
    {
     "name": "stdout",
     "output_type": "stream",
     "text": [
      "Requirement already satisfied: yfinance in d:\\software_2\\anaconda_distribution\\envs\\cwq\\lib\\site-packages (0.2.41)\n",
      "Requirement already satisfied: pandas>=1.3.0 in d:\\software_2\\anaconda_distribution\\envs\\cwq\\lib\\site-packages (from yfinance) (2.2.2)\n",
      "Requirement already satisfied: numpy>=1.16.5 in d:\\software_2\\anaconda_distribution\\envs\\cwq\\lib\\site-packages (from yfinance) (1.26.4)\n",
      "Requirement already satisfied: requests>=2.31 in d:\\software_2\\anaconda_distribution\\envs\\cwq\\lib\\site-packages (from yfinance) (2.32.2)\n",
      "Requirement already satisfied: multitasking>=0.0.7 in d:\\software_2\\anaconda_distribution\\envs\\cwq\\lib\\site-packages (from yfinance) (0.0.11)\n",
      "Requirement already satisfied: lxml>=4.9.1 in d:\\software_2\\anaconda_distribution\\envs\\cwq\\lib\\site-packages (from yfinance) (5.3.0)\n",
      "Requirement already satisfied: platformdirs>=2.0.0 in d:\\software_2\\anaconda_distribution\\envs\\cwq\\lib\\site-packages (from yfinance) (4.2.2)\n",
      "Requirement already satisfied: pytz>=2022.5 in d:\\software_2\\anaconda_distribution\\envs\\cwq\\lib\\site-packages (from yfinance) (2024.1)\n",
      "Requirement already satisfied: frozendict>=2.3.4 in d:\\software_2\\anaconda_distribution\\envs\\cwq\\lib\\site-packages (from yfinance) (2.4.4)\n",
      "Requirement already satisfied: peewee>=3.16.2 in d:\\software_2\\anaconda_distribution\\envs\\cwq\\lib\\site-packages (from yfinance) (3.17.6)\n",
      "Requirement already satisfied: beautifulsoup4>=4.11.1 in d:\\software_2\\anaconda_distribution\\envs\\cwq\\lib\\site-packages (from yfinance) (4.12.3)\n",
      "Requirement already satisfied: html5lib>=1.1 in d:\\software_2\\anaconda_distribution\\envs\\cwq\\lib\\site-packages (from yfinance) (1.1)\n",
      "Requirement already satisfied: soupsieve>1.2 in d:\\software_2\\anaconda_distribution\\envs\\cwq\\lib\\site-packages (from beautifulsoup4>=4.11.1->yfinance) (2.6)\n",
      "Requirement already satisfied: six>=1.9 in d:\\software_2\\anaconda_distribution\\envs\\cwq\\lib\\site-packages (from html5lib>=1.1->yfinance) (1.16.0)\n",
      "Requirement already satisfied: webencodings in d:\\software_2\\anaconda_distribution\\envs\\cwq\\lib\\site-packages (from html5lib>=1.1->yfinance) (0.5.1)\n",
      "Requirement already satisfied: python-dateutil>=2.8.2 in d:\\software_2\\anaconda_distribution\\envs\\cwq\\lib\\site-packages (from pandas>=1.3.0->yfinance) (2.9.0)\n",
      "Requirement already satisfied: tzdata>=2022.7 in d:\\software_2\\anaconda_distribution\\envs\\cwq\\lib\\site-packages (from pandas>=1.3.0->yfinance) (2024.1)\n",
      "Requirement already satisfied: charset-normalizer<4,>=2 in d:\\software_2\\anaconda_distribution\\envs\\cwq\\lib\\site-packages (from requests>=2.31->yfinance) (3.3.2)\n",
      "Requirement already satisfied: idna<4,>=2.5 in d:\\software_2\\anaconda_distribution\\envs\\cwq\\lib\\site-packages (from requests>=2.31->yfinance) (3.7)\n",
      "Requirement already satisfied: urllib3<3,>=1.21.1 in d:\\software_2\\anaconda_distribution\\envs\\cwq\\lib\\site-packages (from requests>=2.31->yfinance) (2.2.1)\n",
      "Requirement already satisfied: certifi>=2017.4.17 in d:\\software_2\\anaconda_distribution\\envs\\cwq\\lib\\site-packages (from requests>=2.31->yfinance) (2024.2.2)\n",
      "Note: you may need to restart the kernel to use updated packages.\n"
     ]
    }
   ],
   "source": [
    "pip install yfinance"
   ]
  },
  {
   "cell_type": "code",
   "execution_count": 2,
   "metadata": {},
   "outputs": [
    {
     "name": "stderr",
     "output_type": "stream",
     "text": [
      "[*********************100%%**********************]  1 of 1 completed\n",
      "C:\\Users\\Amol Pagare\\AppData\\Local\\Temp\\ipykernel_29140\\2935318811.py:22: FutureWarning: Series.__getitem__ treating keys as positions is deprecated. In a future version, integer keys will always be treated as labels (consistent with DataFrame behavior). To access a value by position, use `ser.iloc[pos]`\n",
      "  S0 = data['Close'][-1]  # Last closing price\n",
      "C:\\Users\\Amol Pagare\\AppData\\Local\\Temp\\ipykernel_29140\\2935318811.py:37: FutureWarning: Series.__getitem__ treating keys as positions is deprecated. In a future version, integer keys will always be treated as labels (consistent with DataFrame behavior). To access a value by position, use `ser.iloc[pos]`\n",
      "  S0 = data['Close'][i]\n",
      "C:\\Users\\Amol Pagare\\AppData\\Local\\Temp\\ipykernel_29140\\2935318811.py:48: FutureWarning: Series.__getitem__ treating keys as positions is deprecated. In a future version, integer keys will always be treated as labels (consistent with DataFrame behavior). To access a value by position, use `ser.iloc[pos]`\n",
      "  S1 = data['Close'][min(i + 10, len(data) - 1)]\n"
     ]
    },
    {
     "name": "stdout",
     "output_type": "stream",
     "text": [
      "Monte Carlo trade details saved to monte_carlo_trade_details.csv\n"
     ]
    }
   ],
   "source": [
    "import yfinance as yf\n",
    "import numpy as np\n",
    "import pandas as pd\n",
    "\n",
    "def monte_carlo_simulation(S0, K, T, r, sigma, M, I):\n",
    "    dt = T / M\n",
    "    Z = np.random.standard_normal((M, I))\n",
    "    S = np.zeros((M + 1, I))\n",
    "    S[0] = S0\n",
    "    for t in range(1, M + 1):\n",
    "        S[t] = S[t - 1] * np.exp((r - 0.5 * sigma ** 2) * dt + sigma * np.sqrt(dt) * Z[t - 1])\n",
    "\n",
    "    payoff = np.maximum(S[-1] - K, 0)\n",
    "    option_price = np.exp(-r * T) * np.mean(payoff)\n",
    "    return option_price\n",
    "\n",
    "data = yf.download('AAPL', start='2023-01-01', end='2024-01-01')\n",
    "\n",
    "S0 = data['Close'][-1]  # Last closing price\n",
    "K = 180.0               # Strike price\n",
    "T = 30 / 365            # Time to maturity (30 days)\n",
    "r = 0.05                # Risk-free rate (5%)\n",
    "sigma = 0.25            # Volatility (25%)\n",
    "M = 100                 # Number of time steps\n",
    "I = 100000              # Number of simulations\n",
    "\n",
    "\n",
    "entry_dates = []\n",
    "exit_dates = []\n",
    "profits = []\n",
    "\n",
    "\n",
    "for i in range(len(data) - 1):\n",
    "    S0 = data['Close'][i]\n",
    "    entry_date = data.index[i]\n",
    "    \n",
    "    monte_carlo_price = monte_carlo_simulation(S0, K, T, r, sigma, M, I)\n",
    "    \n",
    "    if monte_carlo_price < 2.0:\n",
    "        entry_dates.append(entry_date)\n",
    "        \n",
    "        exit_date = data.index[min(i + 10, len(data) - 1)]\n",
    "        S1 = data['Close'][min(i + 10, len(data) - 1)]\n",
    "        \n",
    "        exit_price = monte_carlo_simulation(S1, K, T, r, sigma, M, I)\n",
    "        profits.append(exit_price - monte_carlo_price)\n",
    "        exit_dates.append(exit_date)\n",
    "\n",
    "trade_details_monte_carlo = pd.DataFrame({\n",
    "    'Entry Date': entry_dates,\n",
    "    'Exit Date': exit_dates,\n",
    "    'Profit': profits\n",
    "})\n",
    "\n",
    "trade_details_monte_carlo.to_csv('monte_carlo_trade_details.csv', index=False)\n",
    "\n",
    "print(\"Monte Carlo trade details saved to monte_carlo_trade_details.csv\")\n"
   ]
  },
  {
   "cell_type": "code",
   "execution_count": 3,
   "metadata": {},
   "outputs": [
    {
     "name": "stderr",
     "output_type": "stream",
     "text": [
      "[*********************100%%**********************]  1 of 1 completed\n",
      "C:\\Users\\Amol Pagare\\AppData\\Local\\Temp\\ipykernel_29140\\345271170.py:43: FutureWarning: Series.__getitem__ treating keys as positions is deprecated. In a future version, integer keys will always be treated as labels (consistent with DataFrame behavior). To access a value by position, use `ser.iloc[pos]`\n",
      "  S0 = data['Close'][i]\n",
      "C:\\Users\\Amol Pagare\\AppData\\Local\\Temp\\ipykernel_29140\\345271170.py:54: FutureWarning: Series.__getitem__ treating keys as positions is deprecated. In a future version, integer keys will always be treated as labels (consistent with DataFrame behavior). To access a value by position, use `ser.iloc[pos]`\n",
      "  S1 = data['Close'][min(i + 10, len(data) - 1)]\n"
     ]
    },
    {
     "name": "stdout",
     "output_type": "stream",
     "text": [
      "Binomial trade details saved to binomial_trade_details.csv\n"
     ]
    }
   ],
   "source": [
    "import numpy as np\n",
    "import pandas as pd\n",
    "import yfinance as yf\n",
    "\n",
    "def binomial_model(S0, K, T, r, sigma, N, option_type='call'):\n",
    "    dt = T / N\n",
    "    u = np.exp(sigma * np.sqrt(dt))  # Up factor\n",
    "    d = 1 / u                        # Down factor\n",
    "    p = (np.exp(r * dt) - d) / (u - d)  # Risk-neutral probability\n",
    "\n",
    "    ST = np.zeros(N + 1)\n",
    "    for i in range(N + 1):\n",
    "        ST[i] = S0 * (u ** (N - i)) * (d ** i)\n",
    "\n",
    "    if option_type == 'call':\n",
    "        option = np.maximum(ST - K, 0)\n",
    "    elif option_type == 'put':\n",
    "        option = np.maximum(K - ST, 0)\n",
    "\n",
    "    for j in range(N - 1, -1, -1):\n",
    "        for i in range(j + 1):\n",
    "            option[i] = np.exp(-r * dt) * (p * option[i] + (1 - p) * option[i + 1])\n",
    "\n",
    "    return option[0]\n",
    "\n",
    "\n",
    "data = yf.download('AAPL', start='2023-01-01', end='2024-01-01')\n",
    "\n",
    "\n",
    "K = 180.0               # Strike price\n",
    "T = 30 / 365            # Time to maturity (30 days)\n",
    "r = 0.05                # Risk-free rate (5%)\n",
    "sigma = 0.25            # Volatility (25%)\n",
    "N = 100                 # Number of time steps\n",
    "\n",
    "\n",
    "entry_dates = []\n",
    "exit_dates = []\n",
    "profits = []\n",
    "\n",
    "\n",
    "for i in range(len(data) - 1):\n",
    "    S0 = data['Close'][i]\n",
    "    entry_date = data.index[i]\n",
    "    \n",
    "    binomial_price = binomial_model(S0, K, T, r, sigma, N, option_type='call')\n",
    "    \n",
    "    if binomial_price < 2.0:\n",
    "        entry_dates.append(entry_date)\n",
    "        \n",
    "        exit_date = data.index[min(i + 10, len(data) - 1)]\n",
    "        S1 = data['Close'][min(i + 10, len(data) - 1)]\n",
    "        \n",
    "        exit_price = binomial_model(S1, K, T, r, sigma, N, option_type='call')\n",
    "        profits.append(exit_price - binomial_price)\n",
    "        exit_dates.append(exit_date)\n",
    "\n",
    "\n",
    "trade_details_binomial = pd.DataFrame({\n",
    "    'Entry Date': entry_dates,\n",
    "    'Exit Date': exit_dates,\n",
    "    'Profit': profits\n",
    "})\n",
    "\n",
    "trade_details_binomial.to_csv('binomial_trade_details.csv', index=False)\n",
    "\n",
    "print(\"Binomial trade details saved to binomial_trade_details.csv\")\n"
   ]
  },
  {
   "cell_type": "code",
   "execution_count": 4,
   "metadata": {},
   "outputs": [
    {
     "name": "stderr",
     "output_type": "stream",
     "text": [
      "[*********************100%%**********************]  1 of 1 completed"
     ]
    },
    {
     "name": "stdout",
     "output_type": "stream",
     "text": [
      "Black-Scholes trade details saved to black_scholes_trade_details.csv\n"
     ]
    },
    {
     "name": "stderr",
     "output_type": "stream",
     "text": [
      "\n",
      "C:\\Users\\Amol Pagare\\AppData\\Local\\Temp\\ipykernel_29140\\2168548711.py:34: FutureWarning: Series.__getitem__ treating keys as positions is deprecated. In a future version, integer keys will always be treated as labels (consistent with DataFrame behavior). To access a value by position, use `ser.iloc[pos]`\n",
      "  S0 = data['Close'][i]\n",
      "C:\\Users\\Amol Pagare\\AppData\\Local\\Temp\\ipykernel_29140\\2168548711.py:45: FutureWarning: Series.__getitem__ treating keys as positions is deprecated. In a future version, integer keys will always be treated as labels (consistent with DataFrame behavior). To access a value by position, use `ser.iloc[pos]`\n",
      "  S1 = data['Close'][min(i + 10, len(data) - 1)]\n"
     ]
    }
   ],
   "source": [
    "import numpy as np\n",
    "import pandas as pd\n",
    "import yfinance as yf\n",
    "from scipy.stats import norm\n",
    "\n",
    "def black_scholes(S, K, T, r, sigma, option_type='call'):\n",
    "    d1 = (np.log(S / K) + (r + 0.5 * sigma ** 2) * T) / (sigma * np.sqrt(T))\n",
    "    d2 = d1 - sigma * np.sqrt(T)\n",
    "    \n",
    "    if option_type == 'call':\n",
    "        price = S * norm.cdf(d1) - K * np.exp(-r * T) * norm.cdf(d2)\n",
    "    elif option_type == 'put':\n",
    "        price = K * np.exp(-r * T) * norm.cdf(-d2) - S * norm.cdf(-d1)\n",
    "    \n",
    "    return price\n",
    "\n",
    "data = yf.download('AAPL', start='2023-01-01', end='2024-01-01')\n",
    "\n",
    "K = 180.0               # Strike price\n",
    "T = 30 / 365            # Time to maturity (30 days)\n",
    "r = 0.05                # Risk-free rate (5%)\n",
    "sigma = 0.25            # Volatility (25%)\n",
    "\n",
    "entry_dates = []\n",
    "exit_dates = []\n",
    "profits = []\n",
    "\n",
    "for i in range(len(data) - 1):\n",
    "    S0 = data['Close'][i]\n",
    "    entry_date = data.index[i]\n",
    "    \n",
    "    bs_price = black_scholes(S0, K, T, r, sigma, option_type='call')\n",
    "    \n",
    "    if bs_price < 2.0:\n",
    "        entry_dates.append(entry_date)\n",
    "        \n",
    "        exit_date = data.index[min(i + 10, len(data) - 1)]\n",
    "        S1 = data['Close'][min(i + 10, len(data) - 1)]\n",
    "        \n",
    "        exit_price = black_scholes(S1, K, T, r, sigma, option_type='call')\n",
    "        profits.append(exit_price - bs_price)\n",
    "        exit_dates.append(exit_date)\n",
    "\n",
    "trade_details_black_scholes = pd.DataFrame({\n",
    "    'Entry Date': entry_dates,\n",
    "    'Exit Date': exit_dates,\n",
    "    'Profit': profits\n",
    "})\n",
    "\n",
    "trade_details_black_scholes.to_csv('black_scholes_trade_details.csv', index=False)\n",
    "\n",
    "print(\"Black-Scholes trade details saved to black_scholes_trade_details.csv\")\n"
   ]
  }
 ],
 "metadata": {
  "kernelspec": {
   "display_name": "cwq",
   "language": "python",
   "name": "python3"
  },
  "language_info": {
   "codemirror_mode": {
    "name": "ipython",
    "version": 3
   },
   "file_extension": ".py",
   "mimetype": "text/x-python",
   "name": "python",
   "nbconvert_exporter": "python",
   "pygments_lexer": "ipython3",
   "version": "3.12.3"
  }
 },
 "nbformat": 4,
 "nbformat_minor": 2
}
